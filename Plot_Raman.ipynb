{
 "cells": [
  {
   "cell_type": "markdown",
   "metadata": {},
   "source": [
    "# This program aims at getting a plot of each txt file in a folder containig exclusively raman txt files \n"
   ]
  },
  {
   "cell_type": "code",
   "execution_count": 1,
   "metadata": {
    "jupyter": {
     "source_hidden": true
    },
    "tags": []
   },
   "outputs": [
    {
     "name": "stdout",
     "output_type": "stream",
     "text": [
      "2021_12_02_14-41-02_\n",
      "2021_12_02\n"
     ]
    }
   ],
   "source": [
    "from datetime import datetime\n",
    "from datetime import date\n",
    "\n",
    "def date_today():\n",
    "    tdy=str(date.today())\n",
    "    tdy=tdy.replace('-', '_')\n",
    "    return tdy\n",
    "\n",
    "def date_time():\n",
    "    now=str(datetime.now())\n",
    "    now=now[:-7]\n",
    "    now=now.replace('-','_')\n",
    "    now=now.replace(' ', '_')\n",
    "    now=now.replace(':', '-')\n",
    "    now=now+'_'\n",
    "    return now\n",
    "print(date_time())\n",
    "print(date_today())"
   ]
  },
  {
   "cell_type": "code",
   "execution_count": 2,
   "metadata": {
    "jupyter": {
     "source_hidden": true
    },
    "tags": []
   },
   "outputs": [],
   "source": [
    "import os\n",
    "import csv \n",
    "import matplotlib.pyplot as plt\n",
    "import numpy as np\n",
    "from tkinter import *\n",
    "from tkinter import filedialog\n",
    "from scipy import sparse\n",
    "from scipy.sparse.linalg import spsolve"
   ]
  },
  {
   "cell_type": "code",
   "execution_count": 47,
   "metadata": {
    "jupyter": {
     "source_hidden": true
    },
    "tags": []
   },
   "outputs": [],
   "source": [
    "'''Takes 1D list or array in y, smoothing parameters in lam and p. \n",
    "For normalized spectrum so far lam=10e7 to 10e8 and p=1e-7 works quite ok as starting point for raman. niter is number of iteration which was not played with'''\n",
    "def baseline_f(y, lam, p, niter=10):\n",
    "    L = len(y)\n",
    "    D = sparse.diags([1,-2,1],[0,-1,-2], shape=(L,L-2))\n",
    "    w = np.ones(L)\n",
    "    for i in range(niter):\n",
    "        W = sparse.spdiags(w, 0, L, L)\n",
    "        Z = W + lam * D.dot(D.transpose())\n",
    "        z = spsolve(Z, w*y)\n",
    "        w = p * (y > z) + (1-p) * (y < z)\n",
    "    return z\n",
    "\n",
    "'''Baseline definition and substraction'''\n",
    "def baseline_find(arr, lam, p):\n",
    "    baseline=baseline_f(arr,lam, p)\n",
    "    sub_base_data=arr-baseline\n",
    "    plt.plot(arr,label='data')\n",
    "    plt.plot(baseline,label='baseline')\n",
    "    plt.plot(sub_base_data,label='substracted data')\n",
    "    plt.show()\n",
    "    checkok='y'\n",
    "    print('Is baseline ok?')\n",
    "    chkbaseline=input('(y=yes ; other=no): ')\n",
    "    while chkbaseline != checkok:\n",
    "        print('Previous lambda : ', lam, '\\n Define new lambda (input integer(ex:10)=change, other(ex:f)=keep):')\n",
    "        lam_inp=input('Lambda = ')\n",
    "        print('Previous p : ', p, '\\n Define new p (input float(ex:0.10)=change, other(ex:f)=keep ): ')\n",
    "        p_inp=input('p = ')\n",
    "        if lam_inp.isnumeric():\n",
    "            lam=int(lam_inp)\n",
    "        if p_inp.isnumeric():\n",
    "            p=float(p_inp)\n",
    "        baseline=baseline_f(arr,lam,p)\n",
    "        sub_base_data=arr-baseline\n",
    "        plt.plot(arr, label='data')\n",
    "        plt.plot(baseline,label='baseline')\n",
    "        plt.plot(sub_base_data,label='substracted data')\n",
    "        plt.show()\n",
    "        print('Is baseline ok?')\n",
    "        chkbaseline=input('(y=yes ; other=no): ')\n",
    "    final=sub_base_data\n",
    "    return final\n",
    "    \n",
    "    \n",
    "\n",
    "'''Takes data and calculates average in defined window (half above half below)\n",
    "BEWARE regarding first and last values, always check output especially with big window (box_pts)'''\n",
    "def smooth(y, box_pts):\n",
    "    box = np.ones(box_pts)/box_pts\n",
    "    y_smooth = np.convolve(y, box, mode='same')\n",
    "    checkOK='y'\n",
    "    for i in range(box_pts+2):\n",
    "        y_smooth[i]=y_smooth[box_pts+2]\n",
    "        y_smooth[-i-1]=y_smooth[-box_pts-2]\n",
    "    plt.plot(y_smooth)\n",
    "    plt.show()\n",
    "    print('\\n Is smoothed data acceptable?')\n",
    "    check_smooth=input('(y=YES ; other=NO')\n",
    "    while check_smooth != checkOK:\n",
    "        print('Previous Box size was: ',box_pts)\n",
    "        box_pts=int(input('New Box size:'))\n",
    "        box = np.ones(box_pts)/box_pts\n",
    "        y_smooth = np.convolve(y, box, mode='same')\n",
    "        for i in range(box_pts+2):\n",
    "            y_smooth[i]=y_smooth[box_pts+2]\n",
    "            y_smooth[-i-1]=y_smooth[-box_pts-2]\n",
    "        plt.plot(y_smooth)\n",
    "        plt.show()\n",
    "        print('\\n Is smoothed data acceptable?')\n",
    "        check_smooth=input('(y=YES ; other=NO')\n",
    "    return y_smooth\n",
    "\n",
    "'''Directory selection to later read all relevant files from directory\n",
    "WARNING: do not forget '/' or '\\\\' (python vs win) before file name'''\n",
    "def dir_select(start_dir = None):\n",
    "    root=Tk()\n",
    "    directory=filedialog.askdirectory(initialdir=start_dir)\n",
    "    root.destroy()\n",
    "    print(directory)\n",
    "    return directory\n",
    "\n",
    "''' Creates list with all files pertaining to relevant extension'''\n",
    "def all_extension_select(directory, extension):\n",
    "    all_files_names=os.listdir(directory)\n",
    "#    print(all_files_names , '\\n')\n",
    "    txt_files=list()\n",
    "    for a in range(len(all_files_names)):\n",
    "        if all_files_names[a].find(extension)>0:\n",
    "            txt_files.insert(a, all_files_names[a])\n",
    "    print(txt_files)\n",
    "    return txt_files\n",
    "\n",
    "'''1D array normalisation from 0 to 1        '''\n",
    "def array_norm(arr):\n",
    "    datamax=np.max(arr)\n",
    "    datamin=np.min(arr)\n",
    "    norm_arr=np.array([(x - datamin)/(datamax - datamin) for x in arr])\n",
    "    return norm_arr\n",
    "\n",
    "'''Find local/peak maximum in given interval'''\n",
    "def find_max_btwn_x(x, arr, xmin, xmax):\n",
    "    index_min=0\n",
    "    while x[index_min]<xmin:\n",
    "        index_min+=1\n",
    "        if index_min>len(x):\n",
    "            print('Lower x boundary out of range')\n",
    "            break\n",
    "    index_max=index_min\n",
    "    while x[index_max]<xmax:\n",
    "        index_max+=1\n",
    "        if index_min>len(x):\n",
    "            print('Higher xboundary out of range')\n",
    "            break\n",
    "    loc_max=np.max(arr[index_min:index_max])\n",
    "    return loc_max\n",
    "\n",
    "'''Find local/peak maximum in given interval'''\n",
    "def find_min_btwn_x(x, arr, xmin, xmax):\n",
    "    index_min=0\n",
    "    while x[index_min]<xmin:\n",
    "        index_min+=1\n",
    "        if index_min>len(x):\n",
    "            print('Lower x boundary out of range')\n",
    "            break\n",
    "    index_max=index_min\n",
    "    while x[index_max]<xmax:\n",
    "        index_max+=1\n",
    "        if index_min>len(x):\n",
    "            print('Higher xboundary out of range')\n",
    "            break\n",
    "    loc_min=np.min(arr[index_min:index_max])\n",
    "    return loc_min\n",
    "\n",
    "'''Plots raw data graphs'''\n",
    "def plot_raw_graphs(txt_files, directory, newpath):\n",
    "    IDpeak=1345\n",
    "    IGpeak=1590\n",
    "    I2Dpeak=2690\n",
    "    for i in range(len(txt_files)):\n",
    "    #for i in range(3):\n",
    "        with open(directory + '/' + txt_files[i], 'r') as f:\n",
    "            data=np.genfromtxt(f,delimiter='\\t')\n",
    "            fig=plt.figure(1, figsize=(5,5))\n",
    "            plt.plot(data[:,0], data[:,1], color='#351c75')\n",
    "            plt.xlabel('Wavenumber (cm$^⁻$$^1$)', fontsize=14)\n",
    "            plt.ylabel('Intensity (a.u.)', fontsize=14)\n",
    "            plt.title('Raman shift, laser:532nm', fontsize=14)\n",
    "            plt.minorticks_on()\n",
    "            plt.tick_params(direction='in', which='major', length=6)\n",
    "            plt.tick_params(direction='in', which='minor', length=3)\n",
    "\n",
    "\n",
    "            if max(data[:,0]) > I2Dpeak:\n",
    "                plt.axvline(x=I2Dpeak, linestyle='--', color='#c27ba0')\n",
    "                plt.text(x=I2Dpeak+50, y=0.99*max(data[:,1]), s='2D', fontsize=14, color='#c27ba0')\n",
    "                plt.axvline(x=IDpeak, linestyle='--', color='#741b47')\n",
    "                plt.text(x=IDpeak-200, y=0.99*max(data[:,1]), s='D', fontsize=14, color='#741b47')\n",
    "                plt.axvline(x=IGpeak, linestyle='--', color='#a64d79')\n",
    "                plt.text(x=IGpeak+50, y=0.99*max(data[:,1]), s='G', fontsize=14, color='#a64d79')\n",
    "\n",
    "            elif max(data[:,0]) < I2Dpeak:\n",
    "                plt.axvline(x=IDpeak, linestyle='--', color='#741b47')\n",
    "                plt.text(x=IDpeak+10, y=0.99*max(data[:,1]), s='D', fontsize=14, color='#741b47')\n",
    "                plt.axvline(x=IGpeak, linestyle='--', color='#a64d79')\n",
    "                plt.text(x=IGpeak+10, y=0.99*max(data[:,1]), s='G', fontsize=14, color='#a64d79')\n",
    "            plt.savefig(newpath + '/RAW-'+txt_files[i][:-4]+'.png', dpi=100)\n",
    "            #plt.show()\n",
    "            plt.close()\n",
    "\n",
    "    print('Raw Graphs Saved')\n",
    "    return None \n",
    "\n",
    "'''Plots normalized/scaled graphs'''\n",
    "def plot_norm_graphs(txt_files, directory, newpath):\n",
    "    IDpeak=1345\n",
    "    IGpeak=1590\n",
    "    I2Dpeak=2690\n",
    "    for i in range(len(txt_files)):\n",
    "    #for i in range(3):\n",
    "        with open(directory + '/' + txt_files[i], 'r') as f:\n",
    "            data=np.genfromtxt(f,delimiter='\\t')\n",
    "            fig1=plt.figure(2, figsize=(5,5))\n",
    "            normd_data=array_norm(data[:,1])\n",
    "            plt.plot(data[:,0],normd_data, color='#011f4b')\n",
    "            plt.xlabel('Wavenumber (cm$^⁻$$^1$)', fontsize=14)\n",
    "            plt.ylabel('Normalized intensity (a.u.)', fontsize=14)\n",
    "            plt.title('Raman shift, laser:532nm')\n",
    "            plt.minorticks_on()\n",
    "            plt.tick_params(direction='in', which='major', length=6)\n",
    "            plt.tick_params(direction='in', which='minor', length=3)\n",
    "\n",
    "            if max(data[:,0]) > I2Dpeak:\n",
    "                plt.axvline(x=I2Dpeak, linestyle='--', color='#5e4a6f')\n",
    "                plt.text(x=I2Dpeak+50, y=0.99*max(normd_data), s='2D', fontsize=14, color='#5e4a6f')\n",
    "                plt.axvline(x=IDpeak, linestyle='--', color='#371e4c')\n",
    "                plt.text(x=IDpeak-200, y=0.99*max(normd_data), s='D', fontsize=14, color='#371e4c')\n",
    "                plt.axvline(x=IGpeak, linestyle='--', color='#4b345d')\n",
    "                plt.text(x=IGpeak+50, y=0.99*max(normd_data), s='G', fontsize=14, color='#4b345d')\n",
    "            elif max(data[:,0]) < I2Dpeak:\n",
    "                plt.axvline(x=IDpeak, linestyle='--', color='#371e4c')\n",
    "                plt.text(x=IDpeak+10, y=0.99*max(normd_data), s='D', fontsize=14, color='#371e4c')\n",
    "                plt.axvline(x=IGpeak, linestyle='--', color='#4b345d')\n",
    "                plt.text(x=IGpeak+10, y=0.99*max(normd_data), s='G', fontsize=14, color='#4b345d')\n",
    "            plt.savefig(newpath + '/NORM-RAW-'+txt_files[i][:-4]+'.png', dpi=100)\n",
    "            #plt.show()\n",
    "            plt.close()\n",
    "    print('Norm Graphs saved')"
   ]
  },
  {
   "cell_type": "code",
   "execution_count": 4,
   "metadata": {
    "tags": []
   },
   "outputs": [],
   "source": [
    "'''Initial variable declaration'''\n",
    "\n",
    "lambd=100000000\n",
    "pp=0.0000001\n",
    "title_of_used=list()\n",
    "j=0\n",
    "checkok='y'\n",
    "box_smooth=60"
   ]
  },
  {
   "cell_type": "code",
   "execution_count": 5,
   "metadata": {
    "tags": []
   },
   "outputs": [],
   "source": [
    "'''Peak wavenumber'''\n",
    "IDpeak=1345\n",
    "IGpeak=1590\n",
    "I2Dpeak=2690\n"
   ]
  },
  {
   "cell_type": "code",
   "execution_count": 49,
   "metadata": {
    "tags": []
   },
   "outputs": [
    {
     "name": "stdout",
     "output_type": "stream",
     "text": [
      "/home/dasilvatousch/PydataWork/Raman/Old/20210210\n",
      "['20210208_532nm_2_50s_x1.txt', '20210208_UltrasonicCleaned1h_532nm_.txt', '20210128_Tamb.txt', '20210208_UltrasonicCleaned1h_532nm_smoothed.txt', '20210208_UltrasonicCleaned1h_532nm_3.txt', '20210208_UltrasonicCleaned1h_532nm_80s_x2.txt', '20210208_UltrasonicCleaned1h_532nm_11b.txt', '20210208_532nm_.txt', '20210208_633nm_.txt', '20210208_UltrasonicCleaned1h_532nm_11.txt', '20210208_532nm_3smoothed.txt', '20210208_UltrasonicCleaned1h_532nm_80s_x2smoothed.txt', '20210208_UltrasonicCleaned1h_532nm_4_120_x2.txt', '20210208_UltrasonicCleaned1h_532nm_5_smoothed.txt', '20210208_UltrasonicCleaned1h_532nm_7.txt', '20210208_633nm_2baselined.txt', '20210208_UltrasonicCleaned1h_532nm_8.txt', '20210208_UltrasonicCleaned1h_532nm_10.txt', '20210208_532nm_2_50s_x2.txt', '20210208_UltrasonicCleaned1h_532nm_2.txt', '20210128_HT.txt', '20210208_UltrasonicCleaned1h_532nm_9.txt', '20210208_UltrasonicCleaned1h_532nm_5_.txt', '20210208_532nm_2.txt', '20210208_532nm_2_80s_x1.txt', '20210208_532nm_baselined.txt', '20210208_532nm_3.txt', '20210208_633nm_2.txt', '20210208_UltrasonicCleaned1h_532nm_6.txt']\n"
     ]
    }
   ],
   "source": [
    "'''Start program'''\n",
    "\n",
    "directory=dir_select('/home/dasilvatousch/PydataWork/Raman')\n",
    "file_extension='.txt'\n",
    "txt_files=all_extension_select(directory, file_extension)"
   ]
  },
  {
   "cell_type": "code",
   "execution_count": 50,
   "metadata": {},
   "outputs": [],
   "source": [
    "newpath = directory + '/' + 'Graphs' \n",
    "if not os.path.exists(newpath):\n",
    "    os.makedirs(newpath)"
   ]
  },
  {
   "cell_type": "markdown",
   "metadata": {},
   "source": [
    "# Raw:"
   ]
  },
  {
   "cell_type": "code",
   "execution_count": 51,
   "metadata": {},
   "outputs": [
    {
     "name": "stdout",
     "output_type": "stream",
     "text": [
      "Raw Graphs Saved\n"
     ]
    }
   ],
   "source": [
    "plot_raw_graphs(txt_files, directory, newpath)"
   ]
  },
  {
   "cell_type": "markdown",
   "metadata": {
    "jupyter": {
     "source_hidden": true
    },
    "tags": []
   },
   "source": [
    "for i in range(len(txt_files)):\n",
    "#for i in range(3):\n",
    "    with open(directory + '/' + txt_files[i], 'r') as f:\n",
    "        data=np.genfromtxt(f,delimiter='\\t')\n",
    "        fig=plt.figure(1, figsize=(5,5))\n",
    "        plt.plot(data[:,0], data[:,1], color='#351c75')\n",
    "        plt.xlabel('Wavenumber (cm$^⁻$$^1$)', fontsize=14)\n",
    "        plt.ylabel('Intensity (a.u.)', fontsize=14)\n",
    "        plt.title('Raman shift, laser:532nm', fontsize=14)\n",
    "        plt.minorticks_on()\n",
    "        plt.tick_params(direction='in', which='major', length=6)\n",
    "        plt.tick_params(direction='in', which='minor', length=3)\n",
    "        \n",
    "        \n",
    "        if max(data[:,0]) > I2Dpeak:\n",
    "            plt.axvline(x=I2Dpeak, linestyle='--', color='#c27ba0')\n",
    "            plt.text(x=I2Dpeak+50, y=0.99*max(data[:,1]), s='2D', fontsize=14, color='#c27ba0')\n",
    "            plt.axvline(x=IDpeak, linestyle='--', color='#741b47')\n",
    "            plt.text(x=IDpeak-200, y=0.99*max(data[:,1]), s='D', fontsize=14, color='#741b47')\n",
    "            plt.axvline(x=IGpeak, linestyle='--', color='#a64d79')\n",
    "            plt.text(x=IGpeak+50, y=0.99*max(data[:,1]), s='G', fontsize=14, color='#a64d79')\n",
    "            \n",
    "        elif max(data[:,0]) < I2Dpeak:\n",
    "            plt.axvline(x=IDpeak, linestyle='--', color='#741b47')\n",
    "            plt.text(x=IDpeak+10, y=0.99*max(data[:,1]), s='D', fontsize=14, color='#741b47')\n",
    "            plt.axvline(x=IGpeak, linestyle='--', color='#a64d79')\n",
    "            plt.text(x=IGpeak+10, y=0.99*max(data[:,1]), s='G', fontsize=14, color='#a64d79')\n",
    "        plt.savefig(newpath + '/RAW-'+txt_files[i][:-4]+'.png', dpi=100)\n",
    "        #plt.show()\n",
    "        plt.close()\n",
    "\n",
    "print('Raw Graphs Saved')"
   ]
  },
  {
   "cell_type": "markdown",
   "metadata": {},
   "source": [
    "# Normalized raw:"
   ]
  },
  {
   "cell_type": "code",
   "execution_count": 52,
   "metadata": {},
   "outputs": [
    {
     "name": "stdout",
     "output_type": "stream",
     "text": [
      "Norm Graphs saved\n"
     ]
    }
   ],
   "source": [
    "plot_norm_graphs(txt_files, directory, newpath)"
   ]
  },
  {
   "cell_type": "markdown",
   "metadata": {
    "jupyter": {
     "source_hidden": true
    },
    "tags": []
   },
   "source": [
    "for i in range(len(txt_files)):\n",
    "#for i in range(3):\n",
    "    with open(directory + '/' + txt_files[i], 'r') as f:\n",
    "        data=np.genfromtxt(f,delimiter='\\t')\n",
    "        fig1=plt.figure(2, figsize=(5,5))\n",
    "        normd_data=array_norm(data[:,1])\n",
    "        plt.plot(data[:,0],normd_data, color='#011f4b')\n",
    "        plt.xlabel('Wavenumber (cm$^⁻$$^1$)', fontsize=14)\n",
    "        plt.ylabel('Normalized intensity (a.u.)', fontsize=14)\n",
    "        plt.title('Raman shift, laser:532nm')\n",
    "        plt.minorticks_on()\n",
    "        plt.tick_params(direction='in', which='major', length=6)\n",
    "        plt.tick_params(direction='in', which='minor', length=3)\n",
    " \n",
    "        if max(data[:,0]) > I2Dpeak:\n",
    "            plt.axvline(x=I2Dpeak, linestyle='--', color='#5e4a6f')\n",
    "            plt.text(x=I2Dpeak+50, y=0.99*max(normd_data), s='2D', fontsize=14, color='#5e4a6f')\n",
    "            plt.axvline(x=IDpeak, linestyle='--', color='#371e4c')\n",
    "            plt.text(x=IDpeak-200, y=0.99*max(normd_data), s='D', fontsize=14, color='#371e4c')\n",
    "            plt.axvline(x=IGpeak, linestyle='--', color='#4b345d')\n",
    "            plt.text(x=IGpeak+50, y=0.99*max(normd_data), s='G', fontsize=14, color='#4b345d')\n",
    "        elif max(data[:,0]) < I2Dpeak:\n",
    "            plt.axvline(x=IDpeak, linestyle='--', color='#371e4c')\n",
    "            plt.text(x=IDpeak+10, y=0.99*max(normd_data), s='D', fontsize=14, color='#371e4c')\n",
    "            plt.axvline(x=IGpeak, linestyle='--', color='#4b345d')\n",
    "            plt.text(x=IGpeak+10, y=0.99*max(normd_data), s='G', fontsize=14, color='#4b345d')\n",
    "        plt.savefig(newpath + '/NORM-RAW-'+txt_files[i][:-4]+'.png', dpi=100)\n",
    "        #plt.show()\n",
    "        plt.close()\n",
    "print('Norm Graphs saved')"
   ]
  },
  {
   "cell_type": "markdown",
   "metadata": {
    "tags": []
   },
   "source": [
    "#\n",
    "# Smoothing and baseline:"
   ]
  },
  {
   "cell_type": "code",
   "execution_count": 47,
   "metadata": {
    "collapsed": true,
    "jupyter": {
     "outputs_hidden": true,
     "source_hidden": true
    },
    "tags": []
   },
   "outputs": [
    {
     "data": {
      "image/png": "[encoded data removed]",
      "text/plain": [
       "<Figure size 360x360 with 1 Axes>"
      ]
     },
     "metadata": {
      "needs_background": "light"
     },
     "output_type": "display_data"
    },
    {
     "name": "stdout",
     "output_type": "stream",
     "text": [
      "\n",
      "Is smoothing necessary?\n"
     ]
    },
    {
     "ename": "KeyboardInterrupt",
     "evalue": "Interrupted by user",
     "output_type": "error",
     "traceback": [
      "\u001b[0;31m---------------------------------------------------------------------------\u001b[0m",
      "\u001b[0;31mKeyboardInterrupt\u001b[0m                         Traceback (most recent call last)",
      "\u001b[0;32m<ipython-input-47-73ab7a0909fc>\u001b[0m in \u001b[0;36m<module>\u001b[0;34m\u001b[0m\n\u001b[1;32m      8\u001b[0m         \u001b[0mplt\u001b[0m\u001b[0;34m.\u001b[0m\u001b[0mshow\u001b[0m\u001b[0;34m(\u001b[0m\u001b[0;34m)\u001b[0m\u001b[0;34m\u001b[0m\u001b[0;34m\u001b[0m\u001b[0m\n\u001b[1;32m      9\u001b[0m         \u001b[0mprint\u001b[0m\u001b[0;34m(\u001b[0m\u001b[0;34m'\\nIs smoothing necessary?'\u001b[0m\u001b[0;34m)\u001b[0m\u001b[0;34m\u001b[0m\u001b[0;34m\u001b[0m\u001b[0m\n\u001b[0;32m---> 10\u001b[0;31m         \u001b[0msmooth_ans\u001b[0m\u001b[0;34m=\u001b[0m\u001b[0minput\u001b[0m\u001b[0;34m(\u001b[0m\u001b[0;34m'(y=YES ; other=NO): '\u001b[0m\u001b[0;34m)\u001b[0m\u001b[0;34m\u001b[0m\u001b[0;34m\u001b[0m\u001b[0m\n\u001b[0m\u001b[1;32m     11\u001b[0m         \u001b[0;32mif\u001b[0m \u001b[0msmooth_ans\u001b[0m \u001b[0;34m==\u001b[0m \u001b[0mcheckok\u001b[0m\u001b[0;34m:\u001b[0m\u001b[0;34m\u001b[0m\u001b[0;34m\u001b[0m\u001b[0m\n\u001b[1;32m     12\u001b[0m             \u001b[0msmooth_data\u001b[0m\u001b[0;34m=\u001b[0m\u001b[0msmooth\u001b[0m\u001b[0;34m(\u001b[0m\u001b[0mnormd_data\u001b[0m\u001b[0;34m,\u001b[0m \u001b[0mbox_smooth\u001b[0m\u001b[0;34m)\u001b[0m\u001b[0;34m\u001b[0m\u001b[0;34m\u001b[0m\u001b[0m\n",
      "\u001b[0;32m/usr/lib/python3/dist-packages/ipykernel/kernelbase.py\u001b[0m in \u001b[0;36mraw_input\u001b[0;34m(self, prompt)\u001b[0m\n\u001b[1;32m    858\u001b[0m                 \u001b[0;34m\"raw_input was called, but this frontend does not support input requests.\"\u001b[0m\u001b[0;34m\u001b[0m\u001b[0;34m\u001b[0m\u001b[0m\n\u001b[1;32m    859\u001b[0m             )\n\u001b[0;32m--> 860\u001b[0;31m         return self._input_request(str(prompt),\n\u001b[0m\u001b[1;32m    861\u001b[0m             \u001b[0mself\u001b[0m\u001b[0;34m.\u001b[0m\u001b[0m_parent_ident\u001b[0m\u001b[0;34m,\u001b[0m\u001b[0;34m\u001b[0m\u001b[0;34m\u001b[0m\u001b[0m\n\u001b[1;32m    862\u001b[0m             \u001b[0mself\u001b[0m\u001b[0;34m.\u001b[0m\u001b[0m_parent_header\u001b[0m\u001b[0;34m,\u001b[0m\u001b[0;34m\u001b[0m\u001b[0;34m\u001b[0m\u001b[0m\n",
      "\u001b[0;32m/usr/lib/python3/dist-packages/ipykernel/kernelbase.py\u001b[0m in \u001b[0;36m_input_request\u001b[0;34m(self, prompt, ident, parent, password)\u001b[0m\n\u001b[1;32m    891\u001b[0m             \u001b[0;32mexcept\u001b[0m \u001b[0mKeyboardInterrupt\u001b[0m\u001b[0;34m:\u001b[0m\u001b[0;34m\u001b[0m\u001b[0;34m\u001b[0m\u001b[0m\n\u001b[1;32m    892\u001b[0m                 \u001b[0;31m# re-raise KeyboardInterrupt, to truncate traceback\u001b[0m\u001b[0;34m\u001b[0m\u001b[0;34m\u001b[0m\u001b[0;34m\u001b[0m\u001b[0m\n\u001b[0;32m--> 893\u001b[0;31m                 \u001b[0;32mraise\u001b[0m \u001b[0mKeyboardInterrupt\u001b[0m\u001b[0;34m(\u001b[0m\u001b[0;34m\"Interrupted by user\"\u001b[0m\u001b[0;34m)\u001b[0m \u001b[0;32mfrom\u001b[0m \u001b[0;32mNone\u001b[0m\u001b[0;34m\u001b[0m\u001b[0;34m\u001b[0m\u001b[0m\n\u001b[0m\u001b[1;32m    894\u001b[0m             \u001b[0;32melse\u001b[0m\u001b[0;34m:\u001b[0m\u001b[0;34m\u001b[0m\u001b[0;34m\u001b[0m\u001b[0m\n\u001b[1;32m    895\u001b[0m                 \u001b[0;32mbreak\u001b[0m\u001b[0;34m\u001b[0m\u001b[0;34m\u001b[0m\u001b[0m\n",
      "\u001b[0;31mKeyboardInterrupt\u001b[0m: Interrupted by user"
     ]
    }
   ],
   "source": [
    "for i in range(len(txt_files)):\n",
    "#for i in range(2):\n",
    "    with open(directory + '/' + txt_files[i], 'r') as f:\n",
    "        data=np.genfromtxt(f,delimiter='\\t')\n",
    "        normd_data=array_norm(data[:,1])\n",
    "        figa=plt.figure(3, figsize=(5,5))\n",
    "        plt.plot(data[:,0],normd_data)\n",
    "        plt.show()\n",
    "        print('\\nIs smoothing necessary?')\n",
    "        smooth_ans=input('(y=YES ; other=NO): ')\n",
    "        if smooth_ans == checkok:\n",
    "            smooth_data=smooth(normd_data, box_smooth)\n",
    "            normd_data=array_norm(smooth_data)\n",
    "        print('\\nIs baseline substraction needed?')\n",
    "        base_ans=input('(y=YES ; other=NO): ')\n",
    "        if base_ans == checkok:\n",
    "            basd_data=baseline_find(normd_data, lambd, pp)\n",
    "            normd_data=array_norm(basd_data)\n",
    "        normd_data=array_norm(normd_data)\n",
    "        \n",
    "        fig2=plt.figure(4, figsize=(5,5))\n",
    "        plt.plot(data[:,0],normd_data, color='#011f4b')\n",
    "        plt.xlabel('Wavenumber (cm$^⁻$$^1$)', fontsize=14)\n",
    "        plt.ylabel('Normalized Intensity (a.u.)', fontsize=14)\n",
    "        plt.title('Raman shift, laser:532nm', fontsize=14)\n",
    "        plt.minorticks_on()\n",
    "        plt.tick_params(direction='in', which='major', length=6)\n",
    "        plt.tick_params(direction='in', which='minor', length=3)\n",
    "        \n",
    " \n",
    "        if max(data[:,0]) > I2Dpeak:\n",
    "            plt.axvline(x=I2Dpeak, linestyle='--', color='#5e4a6f')\n",
    "            plt.text(x=I2Dpeak+50, y=0.99*max(normd_data), s='2D', fontsize=14, color='#5e4a6f')\n",
    "            plt.axvline(x=IDpeak, linestyle='--', color='#371e4c')\n",
    "            plt.text(x=IDpeak-200, y=0.99*max(normd_data), s='D', fontsize=14, color='#371e4c')\n",
    "            plt.axvline(x=IGpeak, linestyle='--', color='#4b345d')\n",
    "            plt.text(x=IGpeak+50, y=0.99*max(normd_data), s='G', fontsize=14, color='#4b345d')\n",
    "        elif max(data[:,0]) < I2Dpeak:\n",
    "            plt.axvline(x=IDpeak, linestyle='--', color='#371e4c')\n",
    "            plt.text(x=IDpeak+10, y=0.99*max(normd_data), s='D', fontsize=14, color='#371e4c')\n",
    "            plt.axvline(x=IGpeak, linestyle='--', color='#4b345d')\n",
    "            plt.text(x=IGpeak+10, y=0.99*max(normd_data), s='G', fontsize=14, color='#4b345d')\n",
    "        plt.savefig('/home/dasilvatousch/Jupyter/Temp_Plots/S-Bsl-'+txt_files[i][:-4]+'.png', dpi=100)\n",
    "        plt.show()"
   ]
  }
 ],
 "metadata": {
  "kernelspec": {
   "display_name": "Python 3",
   "language": "python",
   "name": "python3"
  },
  "language_info": {
   "codemirror_mode": {
    "name": "ipython",
    "version": 3
   },
   "file_extension": ".py",
   "mimetype": "text/x-python",
   "name": "python",
   "nbconvert_exporter": "python",
   "pygments_lexer": "ipython3",
   "version": "3.8.10"
  }
 },
 "nbformat": 4,
 "nbformat_minor": 4
}
